{
 "cells": [
  {
   "cell_type": "code",
   "execution_count": 1,
   "metadata": {},
   "outputs": [],
   "source": [
    "import numpy as np\n",
    "from datascience import *\n",
    "# These lines do some fancy plotting magic.\\n\",\n",
    "import matplotlib\n",
    "%matplotlib inline\n",
    "import matplotlib.pyplot as plt\n",
    "plt.style.use('fivethirtyeight')"
   ]
  },
  {
   "cell_type": "code",
   "execution_count": 2,
   "metadata": {},
   "outputs": [
    {
     "data": {
      "text/html": [
       "<table border=\"1\" class=\"dataframe\">\n",
       "    <thead>\n",
       "        <tr>\n",
       "            <th>country</th> <th>ISO alpha-3 code</th> <th>UN_region</th> <th>UN_subregion</th> <th>year</th> <th>record</th> <th>crop_land</th> <th>grazing_land</th> <th>forest_land</th> <th>fishing_ground</th> <th>built_up_land</th> <th>carbon</th> <th>total</th> <th>Percapita GDP (2010 USD)</th> <th>population</th>\n",
       "        </tr>\n",
       "    </thead>\n",
       "    <tbody>\n",
       "        <tr>\n",
       "            <td>Armenia</td> <td>ARM             </td> <td>Asia     </td> <td>Western Asia</td> <td>1992</td> <td>BiocapPerCap   </td> <td>0.161129   </td> <td>0.135023    </td> <td>0.0838355  </td> <td>0.013718      </td> <td>0.0336685    </td> <td>0          </td> <td>0.427374   </td> <td>949.033                 </td> <td>3449000   </td>\n",
       "        </tr>\n",
       "        <tr>\n",
       "            <td>Armenia</td> <td>ARM             </td> <td>Asia     </td> <td>Western Asia</td> <td>1992</td> <td>BiocapTotGHA   </td> <td>555813     </td> <td>465763      </td> <td>289191     </td> <td>47320.2       </td> <td>116140       </td> <td>0          </td> <td>1.47423e+06</td> <td>949.033                 </td> <td>3449000   </td>\n",
       "        </tr>\n",
       "        <tr>\n",
       "            <td>Armenia</td> <td>ARM             </td> <td>Asia     </td> <td>Western Asia</td> <td>1992</td> <td>EFConsPerCap   </td> <td>0.390923   </td> <td>0.189137    </td> <td>1.25e-06   </td> <td>0.00413764    </td> <td>0.0336685    </td> <td>1.11223    </td> <td>1.73009    </td> <td>949.033                 </td> <td>3449000   </td>\n",
       "        </tr>\n",
       "        <tr>\n",
       "            <td>Armenia</td> <td>ARM             </td> <td>Asia     </td> <td>Western Asia</td> <td>1992</td> <td>EFConsTotGHA   </td> <td>1.34849e+06</td> <td>652429      </td> <td>4.32784    </td> <td>14272.8       </td> <td>116140       </td> <td>3.83662e+06</td> <td>5.96795e+06</td> <td>949.033                 </td> <td>3449000   </td>\n",
       "        </tr>\n",
       "        <tr>\n",
       "            <td>Armenia</td> <td>ARM             </td> <td>Asia     </td> <td>Western Asia</td> <td>1992</td> <td>EFExportsPerCap</td> <td>0.00112491 </td> <td>0.00228304  </td> <td>0          </td> <td>0.000438381   </td> <td>0            </td> <td>0.0481904  </td> <td>0.0520368  </td> <td>949.033                 </td> <td>3449000   </td>\n",
       "        </tr>\n",
       "        <tr>\n",
       "            <td>Armenia</td> <td>ARM             </td> <td>Asia     </td> <td>Western Asia</td> <td>1992</td> <td>EFExportsTotGHA</td> <td>3880.38    </td> <td>7875.33     </td> <td>0          </td> <td>1512.2        </td> <td>0            </td> <td>166233     </td> <td>179501     </td> <td>949.033                 </td> <td>3449000   </td>\n",
       "        </tr>\n",
       "        <tr>\n",
       "            <td>Armenia</td> <td>ARM             </td> <td>Asia     </td> <td>Western Asia</td> <td>1992</td> <td>EFImportsPerCap</td> <td>0.230919   </td> <td>0.0563969   </td> <td>1.25e-06   </td> <td>0.00331238    </td> <td>0            </td> <td>0.0879112  </td> <td>0.378541   </td> <td>949.033                 </td> <td>3449000   </td>\n",
       "        </tr>\n",
       "        <tr>\n",
       "            <td>Armenia</td> <td>ARM             </td> <td>Asia     </td> <td>Western Asia</td> <td>1992</td> <td>EFImportsTotGHA</td> <td>796555     </td> <td>194541      </td> <td>4.32784    </td> <td>11426.1       </td> <td>0            </td> <td>303250     </td> <td>1.30578e+06</td> <td>949.033                 </td> <td>3449000   </td>\n",
       "        </tr>\n",
       "        <tr>\n",
       "            <td>Armenia</td> <td>ARM             </td> <td>Asia     </td> <td>Western Asia</td> <td>1992</td> <td>EFProdPerCap   </td> <td>0.161129   </td> <td>0.135023    </td> <td>0          </td> <td>0.00126364    </td> <td>0.0336685    </td> <td>1.0725     </td> <td>1.40359    </td> <td>949.033                 </td> <td>3449000   </td>\n",
       "        </tr>\n",
       "        <tr>\n",
       "            <td>Armenia</td> <td>ARM             </td> <td>Asia     </td> <td>Western Asia</td> <td>1992</td> <td>EFProdTotGHA   </td> <td>555813     </td> <td>465763      </td> <td>0          </td> <td>4358.94       </td> <td>116140       </td> <td>3.6996e+06 </td> <td>4.84168e+06</td> <td>949.033                 </td> <td>3449000   </td>\n",
       "        </tr>\n",
       "    </tbody>\n",
       "</table>\n",
       "<p>... (87010 rows omitted)</p>"
      ],
      "text/plain": [
       "<IPython.core.display.HTML object>"
      ]
     },
     "metadata": {},
     "output_type": "display_data"
    }
   ],
   "source": [
    "nfa_all = Table.read_table(\"NFA 2018.csv\")\n",
    "nfa_all.show(10)\n"
   ]
  },
  {
   "cell_type": "code",
   "execution_count": 3,
   "metadata": {},
   "outputs": [
    {
     "data": {
      "text/html": [
       "<table border=\"1\" class=\"dataframe\">\n",
       "    <thead>\n",
       "        <tr>\n",
       "            <th>country</th> <th>ISO alpha-3 code</th> <th>UN_region</th> <th>UN_subregion</th> <th>year</th> <th>record</th> <th>crop_land</th> <th>grazing_land</th> <th>forest_land</th> <th>fishing_ground</th> <th>built_up_land</th> <th>carbon</th> <th>total</th> <th>Percapita GDP (2010 USD)</th> <th>population</th>\n",
       "        </tr>\n",
       "    </thead>\n",
       "    <tbody>\n",
       "        <tr>\n",
       "            <td>Armenia</td> <td>ARM             </td> <td>Asia     </td> <td>Western Asia</td> <td>1992</td> <td>BiocapPerCap   </td> <td>0.161129   </td> <td>0.135023    </td> <td>0.0838355  </td> <td>0.013718      </td> <td>0.0336685    </td> <td>0          </td> <td>0.427374   </td> <td>949.033                 </td> <td>3449000   </td>\n",
       "        </tr>\n",
       "        <tr>\n",
       "            <td>Armenia</td> <td>ARM             </td> <td>Asia     </td> <td>Western Asia</td> <td>1992</td> <td>BiocapTotGHA   </td> <td>555813     </td> <td>465763      </td> <td>289191     </td> <td>47320.2       </td> <td>116140       </td> <td>0          </td> <td>1.47423e+06</td> <td>949.033                 </td> <td>3449000   </td>\n",
       "        </tr>\n",
       "        <tr>\n",
       "            <td>Armenia</td> <td>ARM             </td> <td>Asia     </td> <td>Western Asia</td> <td>1992</td> <td>EFConsPerCap   </td> <td>0.390923   </td> <td>0.189137    </td> <td>1.25e-06   </td> <td>0.00413764    </td> <td>0.0336685    </td> <td>1.11223    </td> <td>1.73009    </td> <td>949.033                 </td> <td>3449000   </td>\n",
       "        </tr>\n",
       "        <tr>\n",
       "            <td>Armenia</td> <td>ARM             </td> <td>Asia     </td> <td>Western Asia</td> <td>1992</td> <td>EFConsTotGHA   </td> <td>1.34849e+06</td> <td>652429      </td> <td>4.32784    </td> <td>14272.8       </td> <td>116140       </td> <td>3.83662e+06</td> <td>5.96795e+06</td> <td>949.033                 </td> <td>3449000   </td>\n",
       "        </tr>\n",
       "        <tr>\n",
       "            <td>Armenia</td> <td>ARM             </td> <td>Asia     </td> <td>Western Asia</td> <td>1992</td> <td>EFExportsPerCap</td> <td>0.00112491 </td> <td>0.00228304  </td> <td>0          </td> <td>0.000438381   </td> <td>0            </td> <td>0.0481904  </td> <td>0.0520368  </td> <td>949.033                 </td> <td>3449000   </td>\n",
       "        </tr>\n",
       "        <tr>\n",
       "            <td>Armenia</td> <td>ARM             </td> <td>Asia     </td> <td>Western Asia</td> <td>1992</td> <td>EFExportsTotGHA</td> <td>3880.38    </td> <td>7875.33     </td> <td>0          </td> <td>1512.2        </td> <td>0            </td> <td>166233     </td> <td>179501     </td> <td>949.033                 </td> <td>3449000   </td>\n",
       "        </tr>\n",
       "        <tr>\n",
       "            <td>Armenia</td> <td>ARM             </td> <td>Asia     </td> <td>Western Asia</td> <td>1992</td> <td>EFImportsPerCap</td> <td>0.230919   </td> <td>0.0563969   </td> <td>1.25e-06   </td> <td>0.00331238    </td> <td>0            </td> <td>0.0879112  </td> <td>0.378541   </td> <td>949.033                 </td> <td>3449000   </td>\n",
       "        </tr>\n",
       "        <tr>\n",
       "            <td>Armenia</td> <td>ARM             </td> <td>Asia     </td> <td>Western Asia</td> <td>1992</td> <td>EFImportsTotGHA</td> <td>796555     </td> <td>194541      </td> <td>4.32784    </td> <td>11426.1       </td> <td>0            </td> <td>303250     </td> <td>1.30578e+06</td> <td>949.033                 </td> <td>3449000   </td>\n",
       "        </tr>\n",
       "        <tr>\n",
       "            <td>Armenia</td> <td>ARM             </td> <td>Asia     </td> <td>Western Asia</td> <td>1992</td> <td>EFProdPerCap   </td> <td>0.161129   </td> <td>0.135023    </td> <td>0          </td> <td>0.00126364    </td> <td>0.0336685    </td> <td>1.0725     </td> <td>1.40359    </td> <td>949.033                 </td> <td>3449000   </td>\n",
       "        </tr>\n",
       "        <tr>\n",
       "            <td>Armenia</td> <td>ARM             </td> <td>Asia     </td> <td>Western Asia</td> <td>1992</td> <td>EFProdTotGHA   </td> <td>555813     </td> <td>465763      </td> <td>0          </td> <td>4358.94       </td> <td>116140       </td> <td>3.6996e+06 </td> <td>4.84168e+06</td> <td>949.033                 </td> <td>3449000   </td>\n",
       "        </tr>\n",
       "    </tbody>\n",
       "</table>\n",
       "<p>... (44670 rows omitted)</p>"
      ],
      "text/plain": [
       "country | ISO alpha-3 code | UN_region | UN_subregion | year | record          | crop_land   | grazing_land | forest_land | fishing_ground | built_up_land | carbon      | total       | Percapita GDP (2010 USD) | population\n",
       "Armenia | ARM              | Asia      | Western Asia | 1992 | BiocapPerCap    | 0.161129    | 0.135023     | 0.0838355   | 0.013718       | 0.0336685     | 0           | 0.427374    | 949.033                  | 3449000\n",
       "Armenia | ARM              | Asia      | Western Asia | 1992 | BiocapTotGHA    | 555813      | 465763       | 289191      | 47320.2        | 116140        | 0           | 1.47423e+06 | 949.033                  | 3449000\n",
       "Armenia | ARM              | Asia      | Western Asia | 1992 | EFConsPerCap    | 0.390923    | 0.189137     | 1.25e-06    | 0.00413764     | 0.0336685     | 1.11223     | 1.73009     | 949.033                  | 3449000\n",
       "Armenia | ARM              | Asia      | Western Asia | 1992 | EFConsTotGHA    | 1.34849e+06 | 652429       | 4.32784     | 14272.8        | 116140        | 3.83662e+06 | 5.96795e+06 | 949.033                  | 3449000\n",
       "Armenia | ARM              | Asia      | Western Asia | 1992 | EFExportsPerCap | 0.00112491  | 0.00228304   | 0           | 0.000438381    | 0             | 0.0481904   | 0.0520368   | 949.033                  | 3449000\n",
       "Armenia | ARM              | Asia      | Western Asia | 1992 | EFExportsTotGHA | 3880.38     | 7875.33      | 0           | 1512.2         | 0             | 166233      | 179501      | 949.033                  | 3449000\n",
       "Armenia | ARM              | Asia      | Western Asia | 1992 | EFImportsPerCap | 0.230919    | 0.0563969    | 1.25e-06    | 0.00331238     | 0             | 0.0879112   | 0.378541    | 949.033                  | 3449000\n",
       "Armenia | ARM              | Asia      | Western Asia | 1992 | EFImportsTotGHA | 796555      | 194541       | 4.32784     | 11426.1        | 0             | 303250      | 1.30578e+06 | 949.033                  | 3449000\n",
       "Armenia | ARM              | Asia      | Western Asia | 1992 | EFProdPerCap    | 0.161129    | 0.135023     | 0           | 0.00126364     | 0.0336685     | 1.0725      | 1.40359     | 949.033                  | 3449000\n",
       "Armenia | ARM              | Asia      | Western Asia | 1992 | EFProdTotGHA    | 555813      | 465763       | 0           | 4358.94        | 116140        | 3.6996e+06  | 4.84168e+06 | 949.033                  | 3449000\n",
       "... (44670 rows omitted)"
      ]
     },
     "execution_count": 3,
     "metadata": {},
     "output_type": "execute_result"
    }
   ],
   "source": [
    "nfa = nfa_all.where(\"year\", are.above(1989))\n",
    "nfa"
   ]
  },
  {
   "cell_type": "code",
   "execution_count": 4,
   "metadata": {},
   "outputs": [
    {
     "data": {
      "text/html": [
       "<table border=\"1\" class=\"dataframe\">\n",
       "    <thead>\n",
       "        <tr>\n",
       "            <th>country</th> <th>ISO alpha-3 code</th> <th>UN_region</th> <th>UN_subregion</th> <th>year</th> <th>record</th> <th>crop_land</th> <th>grazing_land</th> <th>forest_land</th> <th>fishing_ground</th> <th>built_up_land</th> <th>carbon</th> <th>total</th> <th>Percapita GDP (2010 USD)</th> <th>population</th>\n",
       "        </tr>\n",
       "    </thead>\n",
       "    <tbody>\n",
       "        <tr>\n",
       "            <td>Armenia</td> <td>ARM             </td> <td>Asia     </td> <td>Western Asia</td> <td>1992</td> <td>BiocapPerCap</td> <td>0.161129 </td> <td>0.135023    </td> <td>0.0838355  </td> <td>0.013718      </td> <td>0.0336685    </td> <td>0     </td> <td>0.427374</td> <td>949.033                 </td> <td>3449000   </td>\n",
       "        </tr>\n",
       "        <tr>\n",
       "            <td>Armenia</td> <td>ARM             </td> <td>Asia     </td> <td>Western Asia</td> <td>1993</td> <td>BiocapPerCap</td> <td>0.159855 </td> <td>0.138346    </td> <td>0.0859716  </td> <td>0.0140352     </td> <td>0.0319676    </td> <td>0     </td> <td>0.430176</td> <td>886.033                 </td> <td>3370000   </td>\n",
       "        </tr>\n",
       "        <tr>\n",
       "            <td>Armenia</td> <td>ARM             </td> <td>Asia     </td> <td>Western Asia</td> <td>1994</td> <td>BiocapPerCap</td> <td>0.163498 </td> <td>0.143906    </td> <td>0.0880967  </td> <td>0.0143489     </td> <td>0.0314755    </td> <td>0     </td> <td>0.441324</td> <td>956.471                 </td> <td>3290000   </td>\n",
       "        </tr>\n",
       "        <tr>\n",
       "            <td>Armenia</td> <td>ARM             </td> <td>Asia     </td> <td>Western Asia</td> <td>1995</td> <td>BiocapPerCap</td> <td>0.164997 </td> <td>0.156922    </td> <td>0.0898269  </td> <td>0.0146036     </td> <td>0.0314974    </td> <td>0     </td> <td>0.457846</td> <td>1043.54                 </td> <td>3223000   </td>\n",
       "        </tr>\n",
       "        <tr>\n",
       "            <td>Armenia</td> <td>ARM             </td> <td>Asia     </td> <td>Western Asia</td> <td>1996</td> <td>BiocapPerCap</td> <td>0.192977 </td> <td>0.169791    </td> <td>0.0913775  </td> <td>0.0148136     </td> <td>0.0354101    </td> <td>0     </td> <td>0.504369</td> <td>1121.88                 </td> <td>3173000   </td>\n",
       "        </tr>\n",
       "        <tr>\n",
       "            <td>Armenia</td> <td>ARM             </td> <td>Asia     </td> <td>Western Asia</td> <td>1997</td> <td>BiocapPerCap</td> <td>0.154369 </td> <td>0.178974    </td> <td>0.0922832  </td> <td>0.0149783     </td> <td>0.0284563    </td> <td>0     </td> <td>0.469062</td> <td>1172.14                 </td> <td>3138000   </td>\n",
       "        </tr>\n",
       "        <tr>\n",
       "            <td>Armenia</td> <td>ARM             </td> <td>Asia     </td> <td>Western Asia</td> <td>1998</td> <td>BiocapPerCap</td> <td>0.194011 </td> <td>0.18064     </td> <td>0.0929349  </td> <td>0.0150996     </td> <td>0.0358421    </td> <td>0     </td> <td>0.518527</td> <td>1267.58                 </td> <td>3113000   </td>\n",
       "        </tr>\n",
       "        <tr>\n",
       "            <td>Armenia</td> <td>ARM             </td> <td>Asia     </td> <td>Western Asia</td> <td>1999</td> <td>BiocapPerCap</td> <td>0.187179 </td> <td>0.181817    </td> <td>0.0933389  </td> <td>0.015198      </td> <td>0.0347196    </td> <td>0     </td> <td>0.512253</td> <td>1317.74                 </td> <td>3094000   </td>\n",
       "        </tr>\n",
       "        <tr>\n",
       "            <td>Armenia</td> <td>ARM             </td> <td>Asia     </td> <td>Western Asia</td> <td>2000</td> <td>BiocapPerCap</td> <td>0.160494 </td> <td>0.183081    </td> <td>0.0937944  </td> <td>0.0153037     </td> <td>0.0295992    </td> <td>0     </td> <td>0.482272</td> <td>1404.32                 </td> <td>3076000   </td>\n",
       "        </tr>\n",
       "        <tr>\n",
       "            <td>Armenia</td> <td>ARM             </td> <td>Asia     </td> <td>Western Asia</td> <td>2001</td> <td>BiocapPerCap</td> <td>0.214166 </td> <td>0.184332    </td> <td>0.0941429  </td> <td>0.0154082     </td> <td>0.0388931    </td> <td>0     </td> <td>0.546942</td> <td>1548.08                 </td> <td>3060000   </td>\n",
       "        </tr>\n",
       "    </tbody>\n",
       "</table>\n",
       "<p>... (4458 rows omitted)</p>"
      ],
      "text/plain": [
       "country | ISO alpha-3 code | UN_region | UN_subregion | year | record       | crop_land | grazing_land | forest_land | fishing_ground | built_up_land | carbon | total    | Percapita GDP (2010 USD) | population\n",
       "Armenia | ARM              | Asia      | Western Asia | 1992 | BiocapPerCap | 0.161129  | 0.135023     | 0.0838355   | 0.013718       | 0.0336685     | 0      | 0.427374 | 949.033                  | 3449000\n",
       "Armenia | ARM              | Asia      | Western Asia | 1993 | BiocapPerCap | 0.159855  | 0.138346     | 0.0859716   | 0.0140352      | 0.0319676     | 0      | 0.430176 | 886.033                  | 3370000\n",
       "Armenia | ARM              | Asia      | Western Asia | 1994 | BiocapPerCap | 0.163498  | 0.143906     | 0.0880967   | 0.0143489      | 0.0314755     | 0      | 0.441324 | 956.471                  | 3290000\n",
       "Armenia | ARM              | Asia      | Western Asia | 1995 | BiocapPerCap | 0.164997  | 0.156922     | 0.0898269   | 0.0146036      | 0.0314974     | 0      | 0.457846 | 1043.54                  | 3223000\n",
       "Armenia | ARM              | Asia      | Western Asia | 1996 | BiocapPerCap | 0.192977  | 0.169791     | 0.0913775   | 0.0148136      | 0.0354101     | 0      | 0.504369 | 1121.88                  | 3173000\n",
       "Armenia | ARM              | Asia      | Western Asia | 1997 | BiocapPerCap | 0.154369  | 0.178974     | 0.0922832   | 0.0149783      | 0.0284563     | 0      | 0.469062 | 1172.14                  | 3138000\n",
       "Armenia | ARM              | Asia      | Western Asia | 1998 | BiocapPerCap | 0.194011  | 0.18064      | 0.0929349   | 0.0150996      | 0.0358421     | 0      | 0.518527 | 1267.58                  | 3113000\n",
       "Armenia | ARM              | Asia      | Western Asia | 1999 | BiocapPerCap | 0.187179  | 0.181817     | 0.0933389   | 0.015198       | 0.0347196     | 0      | 0.512253 | 1317.74                  | 3094000\n",
       "Armenia | ARM              | Asia      | Western Asia | 2000 | BiocapPerCap | 0.160494  | 0.183081     | 0.0937944   | 0.0153037      | 0.0295992     | 0      | 0.482272 | 1404.32                  | 3076000\n",
       "Armenia | ARM              | Asia      | Western Asia | 2001 | BiocapPerCap | 0.214166  | 0.184332     | 0.0941429   | 0.0154082      | 0.0388931     | 0      | 0.546942 | 1548.08                  | 3060000\n",
       "... (4458 rows omitted)"
      ]
     },
     "execution_count": 4,
     "metadata": {},
     "output_type": "execute_result"
    }
   ],
   "source": [
    "nfa_BiocapPerCap = nfa.where(\"record\", \"BiocapPerCap\")\n",
    "nfa_BiocapPerCap"
   ]
  },
  {
   "cell_type": "code",
   "execution_count": 5,
   "metadata": {},
   "outputs": [
    {
     "data": {
      "text/html": [
       "<table border=\"1\" class=\"dataframe\">\n",
       "    <thead>\n",
       "        <tr>\n",
       "            <th>country</th> <th>ISO alpha-3 code</th> <th>UN_region</th> <th>UN_subregion</th> <th>year</th> <th>record</th> <th>crop_land</th> <th>grazing_land</th> <th>forest_land</th> <th>fishing_ground</th> <th>built_up_land</th> <th>carbon</th> <th>total</th> <th>Percapita GDP (2010 USD)</th> <th>population</th>\n",
       "        </tr>\n",
       "    </thead>\n",
       "    <tbody>\n",
       "        <tr>\n",
       "            <td>Armenia</td> <td>ARM             </td> <td>Asia     </td> <td>Western Asia</td> <td>1992</td> <td>BiocapTotGHA</td> <td>555813   </td> <td>465763      </td> <td>289191     </td> <td>47320.2       </td> <td>116140       </td> <td>0     </td> <td>1.47423e+06</td> <td>949.033                 </td> <td>3449000   </td>\n",
       "        </tr>\n",
       "        <tr>\n",
       "            <td>Armenia</td> <td>ARM             </td> <td>Asia     </td> <td>Western Asia</td> <td>1993</td> <td>BiocapTotGHA</td> <td>538659   </td> <td>466182      </td> <td>289696     </td> <td>47293.9       </td> <td>107720       </td> <td>0     </td> <td>1.44955e+06</td> <td>886.033                 </td> <td>3370000   </td>\n",
       "        </tr>\n",
       "        <tr>\n",
       "            <td>Armenia</td> <td>ARM             </td> <td>Asia     </td> <td>Western Asia</td> <td>1994</td> <td>BiocapTotGHA</td> <td>537898   </td> <td>473441      </td> <td>289833     </td> <td>47207         </td> <td>103553       </td> <td>0     </td> <td>1.45193e+06</td> <td>956.471                 </td> <td>3290000   </td>\n",
       "        </tr>\n",
       "        <tr>\n",
       "            <td>Armenia</td> <td>ARM             </td> <td>Asia     </td> <td>Western Asia</td> <td>1995</td> <td>BiocapTotGHA</td> <td>531812   </td> <td>505785      </td> <td>289527     </td> <td>47069.8       </td> <td>101521       </td> <td>0     </td> <td>1.47572e+06</td> <td>1043.54                 </td> <td>3223000   </td>\n",
       "        </tr>\n",
       "        <tr>\n",
       "            <td>Armenia</td> <td>ARM             </td> <td>Asia     </td> <td>Western Asia</td> <td>1996</td> <td>BiocapTotGHA</td> <td>612401   </td> <td>538818      </td> <td>289980     </td> <td>47010         </td> <td>112371       </td> <td>0     </td> <td>1.60058e+06</td> <td>1121.88                 </td> <td>3173000   </td>\n",
       "        </tr>\n",
       "        <tr>\n",
       "            <td>Armenia</td> <td>ARM             </td> <td>Asia     </td> <td>Western Asia</td> <td>1997</td> <td>BiocapTotGHA</td> <td>484357   </td> <td>561558      </td> <td>289553     </td> <td>46996.7       </td> <td>89286        </td> <td>0     </td> <td>1.47175e+06</td> <td>1172.14                 </td> <td>3138000   </td>\n",
       "        </tr>\n",
       "        <tr>\n",
       "            <td>Armenia</td> <td>ARM             </td> <td>Asia     </td> <td>Western Asia</td> <td>1998</td> <td>BiocapTotGHA</td> <td>603947   </td> <td>562325      </td> <td>289303     </td> <td>47004.5       </td> <td>111575       </td> <td>0     </td> <td>1.61415e+06</td> <td>1267.58                 </td> <td>3113000   </td>\n",
       "        </tr>\n",
       "        <tr>\n",
       "            <td>Armenia</td> <td>ARM             </td> <td>Asia     </td> <td>Western Asia</td> <td>1999</td> <td>BiocapTotGHA</td> <td>579098   </td> <td>562510      </td> <td>288774     </td> <td>47020         </td> <td>107416       </td> <td>0     </td> <td>1.58482e+06</td> <td>1317.74                 </td> <td>3094000   </td>\n",
       "        </tr>\n",
       "        <tr>\n",
       "            <td>Armenia</td> <td>ARM             </td> <td>Asia     </td> <td>Western Asia</td> <td>2000</td> <td>BiocapTotGHA</td> <td>493694   </td> <td>563177      </td> <td>288521     </td> <td>47075.7       </td> <td>91050.2      </td> <td>0     </td> <td>1.48352e+06</td> <td>1404.32                 </td> <td>3076000   </td>\n",
       "        </tr>\n",
       "        <tr>\n",
       "            <td>Armenia</td> <td>ARM             </td> <td>Asia     </td> <td>Western Asia</td> <td>2001</td> <td>BiocapTotGHA</td> <td>655356   </td> <td>564063      </td> <td>288081     </td> <td>47149.8       </td> <td>119014       </td> <td>0     </td> <td>1.67366e+06</td> <td>1548.08                 </td> <td>3060000   </td>\n",
       "        </tr>\n",
       "    </tbody>\n",
       "</table>\n",
       "<p>... (4458 rows omitted)</p>"
      ],
      "text/plain": [
       "country | ISO alpha-3 code | UN_region | UN_subregion | year | record       | crop_land | grazing_land | forest_land | fishing_ground | built_up_land | carbon | total       | Percapita GDP (2010 USD) | population\n",
       "Armenia | ARM              | Asia      | Western Asia | 1992 | BiocapTotGHA | 555813    | 465763       | 289191      | 47320.2        | 116140        | 0      | 1.47423e+06 | 949.033                  | 3449000\n",
       "Armenia | ARM              | Asia      | Western Asia | 1993 | BiocapTotGHA | 538659    | 466182       | 289696      | 47293.9        | 107720        | 0      | 1.44955e+06 | 886.033                  | 3370000\n",
       "Armenia | ARM              | Asia      | Western Asia | 1994 | BiocapTotGHA | 537898    | 473441       | 289833      | 47207          | 103553        | 0      | 1.45193e+06 | 956.471                  | 3290000\n",
       "Armenia | ARM              | Asia      | Western Asia | 1995 | BiocapTotGHA | 531812    | 505785       | 289527      | 47069.8        | 101521        | 0      | 1.47572e+06 | 1043.54                  | 3223000\n",
       "Armenia | ARM              | Asia      | Western Asia | 1996 | BiocapTotGHA | 612401    | 538818       | 289980      | 47010          | 112371        | 0      | 1.60058e+06 | 1121.88                  | 3173000\n",
       "Armenia | ARM              | Asia      | Western Asia | 1997 | BiocapTotGHA | 484357    | 561558       | 289553      | 46996.7        | 89286         | 0      | 1.47175e+06 | 1172.14                  | 3138000\n",
       "Armenia | ARM              | Asia      | Western Asia | 1998 | BiocapTotGHA | 603947    | 562325       | 289303      | 47004.5        | 111575        | 0      | 1.61415e+06 | 1267.58                  | 3113000\n",
       "Armenia | ARM              | Asia      | Western Asia | 1999 | BiocapTotGHA | 579098    | 562510       | 288774      | 47020          | 107416        | 0      | 1.58482e+06 | 1317.74                  | 3094000\n",
       "Armenia | ARM              | Asia      | Western Asia | 2000 | BiocapTotGHA | 493694    | 563177       | 288521      | 47075.7        | 91050.2       | 0      | 1.48352e+06 | 1404.32                  | 3076000\n",
       "Armenia | ARM              | Asia      | Western Asia | 2001 | BiocapTotGHA | 655356    | 564063       | 288081      | 47149.8        | 119014        | 0      | 1.67366e+06 | 1548.08                  | 3060000\n",
       "... (4458 rows omitted)"
      ]
     },
     "execution_count": 5,
     "metadata": {},
     "output_type": "execute_result"
    }
   ],
   "source": [
    "nfa_BiocapTotGHA = nfa.where(\"record\", \"BiocapTotGHA\")\n",
    "nfa_BiocapTotGHA\n"
   ]
  },
  {
   "cell_type": "code",
   "execution_count": 6,
   "metadata": {},
   "outputs": [
    {
     "data": {
      "text/html": [
       "<table border=\"1\" class=\"dataframe\">\n",
       "    <thead>\n",
       "        <tr>\n",
       "            <th>country</th> <th>ISO alpha-3 code</th> <th>UN_region</th> <th>UN_subregion</th> <th>year</th> <th>record</th> <th>crop_land</th> <th>grazing_land</th> <th>forest_land</th> <th>fishing_ground</th> <th>built_up_land</th> <th>carbon</th> <th>total</th> <th>Percapita GDP (2010 USD)</th> <th>population</th>\n",
       "        </tr>\n",
       "    </thead>\n",
       "    <tbody>\n",
       "        <tr>\n",
       "            <td>Armenia</td> <td>ARM             </td> <td>Asia     </td> <td>Western Asia</td> <td>1992</td> <td>EFConsPerCap</td> <td>0.390923 </td> <td>0.189137    </td> <td>1.25e-06   </td> <td>0.00413764    </td> <td>0.0336685    </td> <td>1.11223 </td> <td>1.73009</td> <td>949.033                 </td> <td>3449000   </td>\n",
       "        </tr>\n",
       "        <tr>\n",
       "            <td>Armenia</td> <td>ARM             </td> <td>Asia     </td> <td>Western Asia</td> <td>1993</td> <td>EFConsPerCap</td> <td>0.386611 </td> <td>0.200749    </td> <td>1.07e-05   </td> <td>0.00381586    </td> <td>0.0319676    </td> <td>0.535277</td> <td>1.15843</td> <td>886.033                 </td> <td>3370000   </td>\n",
       "        </tr>\n",
       "        <tr>\n",
       "            <td>Armenia</td> <td>ARM             </td> <td>Asia     </td> <td>Western Asia</td> <td>1994</td> <td>EFConsPerCap</td> <td>0.445495 </td> <td>0.317448    </td> <td>2.34e-05   </td> <td>0.00376594    </td> <td>0.0314755    </td> <td>0.317669</td> <td>1.11588</td> <td>956.471                 </td> <td>3290000   </td>\n",
       "        </tr>\n",
       "        <tr>\n",
       "            <td>Armenia</td> <td>ARM             </td> <td>Asia     </td> <td>Western Asia</td> <td>1995</td> <td>EFConsPerCap</td> <td>0.380362 </td> <td>0.196215    </td> <td>1.69e-05   </td> <td>0.00392623    </td> <td>0.0314974    </td> <td>0.41618 </td> <td>1.0282 </td> <td>1043.54                 </td> <td>3223000   </td>\n",
       "        </tr>\n",
       "        <tr>\n",
       "            <td>Armenia</td> <td>ARM             </td> <td>Asia     </td> <td>Western Asia</td> <td>1996</td> <td>EFConsPerCap</td> <td>0.441648 </td> <td>0.223205    </td> <td>2.23e-05   </td> <td>0.00303002    </td> <td>0.0354101    </td> <td>0.334686</td> <td>1.038  </td> <td>1121.88                 </td> <td>3173000   </td>\n",
       "        </tr>\n",
       "        <tr>\n",
       "            <td>Armenia</td> <td>ARM             </td> <td>Asia     </td> <td>Western Asia</td> <td>1997</td> <td>EFConsPerCap</td> <td>0.399044 </td> <td>0.258338    </td> <td>0.00943244 </td> <td>0.00345691    </td> <td>0.0284563    </td> <td>0.409646</td> <td>1.10837</td> <td>1172.14                 </td> <td>3138000   </td>\n",
       "        </tr>\n",
       "        <tr>\n",
       "            <td>Armenia</td> <td>ARM             </td> <td>Asia     </td> <td>Western Asia</td> <td>1998</td> <td>EFConsPerCap</td> <td>0.463829 </td> <td>0.214603    </td> <td>0.00206365 </td> <td>0.00477332    </td> <td>0.0358421    </td> <td>0.432529</td> <td>1.15364</td> <td>1267.58                 </td> <td>3113000   </td>\n",
       "        </tr>\n",
       "        <tr>\n",
       "            <td>Armenia</td> <td>ARM             </td> <td>Asia     </td> <td>Western Asia</td> <td>1999</td> <td>EFConsPerCap</td> <td>0.381901 </td> <td>0.20003     </td> <td>0.00230486 </td> <td>0.00662083    </td> <td>0.0347196    </td> <td>0.520854</td> <td>1.14643</td> <td>1317.74                 </td> <td>3094000   </td>\n",
       "        </tr>\n",
       "        <tr>\n",
       "            <td>Armenia</td> <td>ARM             </td> <td>Asia     </td> <td>Western Asia</td> <td>2000</td> <td>EFConsPerCap</td> <td>0.409554 </td> <td>0.199877    </td> <td>0.0144198  </td> <td>0.00878479    </td> <td>0.0295992    </td> <td>0.482025</td> <td>1.14426</td> <td>1404.32                 </td> <td>3076000   </td>\n",
       "        </tr>\n",
       "        <tr>\n",
       "            <td>Armenia</td> <td>ARM             </td> <td>Asia     </td> <td>Western Asia</td> <td>2001</td> <td>EFConsPerCap</td> <td>0.434052 </td> <td>0.20198     </td> <td>0.0387905  </td> <td>0.00835582    </td> <td>0.0388931    </td> <td>0.501807</td> <td>1.22388</td> <td>1548.08                 </td> <td>3060000   </td>\n",
       "        </tr>\n",
       "    </tbody>\n",
       "</table>\n",
       "<p>... (4458 rows omitted)</p>"
      ],
      "text/plain": [
       "country | ISO alpha-3 code | UN_region | UN_subregion | year | record       | crop_land | grazing_land | forest_land | fishing_ground | built_up_land | carbon   | total   | Percapita GDP (2010 USD) | population\n",
       "Armenia | ARM              | Asia      | Western Asia | 1992 | EFConsPerCap | 0.390923  | 0.189137     | 1.25e-06    | 0.00413764     | 0.0336685     | 1.11223  | 1.73009 | 949.033                  | 3449000\n",
       "Armenia | ARM              | Asia      | Western Asia | 1993 | EFConsPerCap | 0.386611  | 0.200749     | 1.07e-05    | 0.00381586     | 0.0319676     | 0.535277 | 1.15843 | 886.033                  | 3370000\n",
       "Armenia | ARM              | Asia      | Western Asia | 1994 | EFConsPerCap | 0.445495  | 0.317448     | 2.34e-05    | 0.00376594     | 0.0314755     | 0.317669 | 1.11588 | 956.471                  | 3290000\n",
       "Armenia | ARM              | Asia      | Western Asia | 1995 | EFConsPerCap | 0.380362  | 0.196215     | 1.69e-05    | 0.00392623     | 0.0314974     | 0.41618  | 1.0282  | 1043.54                  | 3223000\n",
       "Armenia | ARM              | Asia      | Western Asia | 1996 | EFConsPerCap | 0.441648  | 0.223205     | 2.23e-05    | 0.00303002     | 0.0354101     | 0.334686 | 1.038   | 1121.88                  | 3173000\n",
       "Armenia | ARM              | Asia      | Western Asia | 1997 | EFConsPerCap | 0.399044  | 0.258338     | 0.00943244  | 0.00345691     | 0.0284563     | 0.409646 | 1.10837 | 1172.14                  | 3138000\n",
       "Armenia | ARM              | Asia      | Western Asia | 1998 | EFConsPerCap | 0.463829  | 0.214603     | 0.00206365  | 0.00477332     | 0.0358421     | 0.432529 | 1.15364 | 1267.58                  | 3113000\n",
       "Armenia | ARM              | Asia      | Western Asia | 1999 | EFConsPerCap | 0.381901  | 0.20003      | 0.00230486  | 0.00662083     | 0.0347196     | 0.520854 | 1.14643 | 1317.74                  | 3094000\n",
       "Armenia | ARM              | Asia      | Western Asia | 2000 | EFConsPerCap | 0.409554  | 0.199877     | 0.0144198   | 0.00878479     | 0.0295992     | 0.482025 | 1.14426 | 1404.32                  | 3076000\n",
       "Armenia | ARM              | Asia      | Western Asia | 2001 | EFConsPerCap | 0.434052  | 0.20198      | 0.0387905   | 0.00835582     | 0.0388931     | 0.501807 | 1.22388 | 1548.08                  | 3060000\n",
       "... (4458 rows omitted)"
      ]
     },
     "execution_count": 6,
     "metadata": {},
     "output_type": "execute_result"
    }
   ],
   "source": [
    "nfa_EFConsPerCap = nfa.where(\"record\", \"EFConsPerCap\")\n",
    "nfa_EFConsPerCap"
   ]
  },
  {
   "cell_type": "code",
   "execution_count": 7,
   "metadata": {},
   "outputs": [
    {
     "data": {
      "text/html": [
       "<table border=\"1\" class=\"dataframe\">\n",
       "    <thead>\n",
       "        <tr>\n",
       "            <th>country</th> <th>ISO alpha-3 code</th> <th>UN_region</th> <th>UN_subregion</th> <th>year</th> <th>record</th> <th>crop_land</th> <th>grazing_land</th> <th>forest_land</th> <th>fishing_ground</th> <th>built_up_land</th> <th>carbon</th> <th>total</th> <th>Percapita GDP (2010 USD)</th> <th>population</th>\n",
       "        </tr>\n",
       "    </thead>\n",
       "    <tbody>\n",
       "        <tr>\n",
       "            <td>Armenia</td> <td>ARM             </td> <td>Asia     </td> <td>Western Asia</td> <td>1992</td> <td>EFConsTotGHA</td> <td>1.34849e+06</td> <td>652429      </td> <td>4.32784    </td> <td>14272.8       </td> <td>116140       </td> <td>3.83662e+06</td> <td>5.96795e+06</td> <td>949.033                 </td> <td>3449000   </td>\n",
       "        </tr>\n",
       "        <tr>\n",
       "            <td>Armenia</td> <td>ARM             </td> <td>Asia     </td> <td>Western Asia</td> <td>1993</td> <td>EFConsTotGHA</td> <td>1.30275e+06</td> <td>676459      </td> <td>36.0341    </td> <td>12858.2       </td> <td>107720       </td> <td>1.80371e+06</td> <td>3.90353e+06</td> <td>886.033                 </td> <td>3370000   </td>\n",
       "        </tr>\n",
       "        <tr>\n",
       "            <td>Armenia</td> <td>ARM             </td> <td>Asia     </td> <td>Western Asia</td> <td>1994</td> <td>EFConsTotGHA</td> <td>1.46565e+06</td> <td>1.04438e+06 </td> <td>76.8614    </td> <td>12389.7       </td> <td>103553       </td> <td>1.04511e+06</td> <td>3.67117e+06</td> <td>956.471                 </td> <td>3290000   </td>\n",
       "        </tr>\n",
       "        <tr>\n",
       "            <td>Armenia</td> <td>ARM             </td> <td>Asia     </td> <td>Western Asia</td> <td>1995</td> <td>EFConsTotGHA</td> <td>1.22597e+06</td> <td>632435      </td> <td>54.3858    </td> <td>12654.9       </td> <td>101521       </td> <td>1.34142e+06</td> <td>3.31406e+06</td> <td>1043.54                 </td> <td>3223000   </td>\n",
       "        </tr>\n",
       "        <tr>\n",
       "            <td>Armenia</td> <td>ARM             </td> <td>Asia     </td> <td>Western Asia</td> <td>1996</td> <td>EFConsTotGHA</td> <td>1.40154e+06</td> <td>708324      </td> <td>70.6233    </td> <td>9615.56       </td> <td>112371       </td> <td>1.0621e+06 </td> <td>3.29402e+06</td> <td>1121.88                 </td> <td>3173000   </td>\n",
       "        </tr>\n",
       "        <tr>\n",
       "            <td>Armenia</td> <td>ARM             </td> <td>Asia     </td> <td>Western Asia</td> <td>1997</td> <td>EFConsTotGHA</td> <td>1.25206e+06</td> <td>810576      </td> <td>29595.7    </td> <td>10846.6       </td> <td>89286        </td> <td>1.28533e+06</td> <td>3.47769e+06</td> <td>1172.14                 </td> <td>3138000   </td>\n",
       "        </tr>\n",
       "        <tr>\n",
       "            <td>Armenia</td> <td>ARM             </td> <td>Asia     </td> <td>Western Asia</td> <td>1998</td> <td>EFConsTotGHA</td> <td>1.44388e+06</td> <td>668052      </td> <td>6424.07    </td> <td>14859.2       </td> <td>111575       </td> <td>1.34644e+06</td> <td>3.59124e+06</td> <td>1267.58                 </td> <td>3113000   </td>\n",
       "        </tr>\n",
       "        <tr>\n",
       "            <td>Armenia</td> <td>ARM             </td> <td>Asia     </td> <td>Western Asia</td> <td>1999</td> <td>EFConsTotGHA</td> <td>1.18153e+06</td> <td>618858      </td> <td>7130.83    </td> <td>20483.7       </td> <td>107416       </td> <td>1.61143e+06</td> <td>3.54685e+06</td> <td>1317.74                 </td> <td>3094000   </td>\n",
       "        </tr>\n",
       "        <tr>\n",
       "            <td>Armenia</td> <td>ARM             </td> <td>Asia     </td> <td>Western Asia</td> <td>2000</td> <td>EFConsTotGHA</td> <td>1.25983e+06</td> <td>614842      </td> <td>44356.7    </td> <td>27022.9       </td> <td>91050.2      </td> <td>1.48276e+06</td> <td>3.51986e+06</td> <td>1404.32                 </td> <td>3076000   </td>\n",
       "        </tr>\n",
       "        <tr>\n",
       "            <td>Armenia</td> <td>ARM             </td> <td>Asia     </td> <td>Western Asia</td> <td>2001</td> <td>EFConsTotGHA</td> <td>1.32822e+06</td> <td>618067      </td> <td>118700     </td> <td>25569.2       </td> <td>119014       </td> <td>1.53555e+06</td> <td>3.74512e+06</td> <td>1548.08                 </td> <td>3060000   </td>\n",
       "        </tr>\n",
       "    </tbody>\n",
       "</table>\n",
       "<p>... (4458 rows omitted)</p>"
      ],
      "text/plain": [
       "country | ISO alpha-3 code | UN_region | UN_subregion | year | record       | crop_land   | grazing_land | forest_land | fishing_ground | built_up_land | carbon      | total       | Percapita GDP (2010 USD) | population\n",
       "Armenia | ARM              | Asia      | Western Asia | 1992 | EFConsTotGHA | 1.34849e+06 | 652429       | 4.32784     | 14272.8        | 116140        | 3.83662e+06 | 5.96795e+06 | 949.033                  | 3449000\n",
       "Armenia | ARM              | Asia      | Western Asia | 1993 | EFConsTotGHA | 1.30275e+06 | 676459       | 36.0341     | 12858.2        | 107720        | 1.80371e+06 | 3.90353e+06 | 886.033                  | 3370000\n",
       "Armenia | ARM              | Asia      | Western Asia | 1994 | EFConsTotGHA | 1.46565e+06 | 1.04438e+06  | 76.8614     | 12389.7        | 103553        | 1.04511e+06 | 3.67117e+06 | 956.471                  | 3290000\n",
       "Armenia | ARM              | Asia      | Western Asia | 1995 | EFConsTotGHA | 1.22597e+06 | 632435       | 54.3858     | 12654.9        | 101521        | 1.34142e+06 | 3.31406e+06 | 1043.54                  | 3223000\n",
       "Armenia | ARM              | Asia      | Western Asia | 1996 | EFConsTotGHA | 1.40154e+06 | 708324       | 70.6233     | 9615.56        | 112371        | 1.0621e+06  | 3.29402e+06 | 1121.88                  | 3173000\n",
       "Armenia | ARM              | Asia      | Western Asia | 1997 | EFConsTotGHA | 1.25206e+06 | 810576       | 29595.7     | 10846.6        | 89286         | 1.28533e+06 | 3.47769e+06 | 1172.14                  | 3138000\n",
       "Armenia | ARM              | Asia      | Western Asia | 1998 | EFConsTotGHA | 1.44388e+06 | 668052       | 6424.07     | 14859.2        | 111575        | 1.34644e+06 | 3.59124e+06 | 1267.58                  | 3113000\n",
       "Armenia | ARM              | Asia      | Western Asia | 1999 | EFConsTotGHA | 1.18153e+06 | 618858       | 7130.83     | 20483.7        | 107416        | 1.61143e+06 | 3.54685e+06 | 1317.74                  | 3094000\n",
       "Armenia | ARM              | Asia      | Western Asia | 2000 | EFConsTotGHA | 1.25983e+06 | 614842       | 44356.7     | 27022.9        | 91050.2       | 1.48276e+06 | 3.51986e+06 | 1404.32                  | 3076000\n",
       "Armenia | ARM              | Asia      | Western Asia | 2001 | EFConsTotGHA | 1.32822e+06 | 618067       | 118700      | 25569.2        | 119014        | 1.53555e+06 | 3.74512e+06 | 1548.08                  | 3060000\n",
       "... (4458 rows omitted)"
      ]
     },
     "execution_count": 7,
     "metadata": {},
     "output_type": "execute_result"
    }
   ],
   "source": [
    "nfa_EFConsTotGHA = nfa.where(\"record\", \"EFConsTotGHA\")\n",
    "nfa_EFConsTotGHA\n"
   ]
  },
  {
   "cell_type": "code",
   "execution_count": 8,
   "metadata": {},
   "outputs": [
    {
     "data": {
      "text/html": [
       "<table border=\"1\" class=\"dataframe\">\n",
       "    <thead>\n",
       "        <tr>\n",
       "            <th>country</th> <th>ISO alpha-3 code</th> <th>UN_region</th> <th>UN_subregion</th> <th>year</th> <th>record</th> <th>crop_land</th> <th>grazing_land</th> <th>forest_land</th> <th>fishing_ground</th> <th>built_up_land</th> <th>carbon</th> <th>total</th> <th>Percapita GDP (2010 USD)</th> <th>population</th>\n",
       "        </tr>\n",
       "    </thead>\n",
       "    <tbody>\n",
       "        <tr>\n",
       "            <td>Armenia</td> <td>ARM             </td> <td>Asia     </td> <td>Western Asia</td> <td>1992</td> <td>EFExportsPerCap</td> <td>0.00112491</td> <td>0.00228304  </td> <td>0          </td> <td>0.000438381   </td> <td>0            </td> <td>0.0481904</td> <td>0.0520368</td> <td>949.033                 </td> <td>3449000   </td>\n",
       "        </tr>\n",
       "        <tr>\n",
       "            <td>Armenia</td> <td>ARM             </td> <td>Asia     </td> <td>Western Asia</td> <td>1993</td> <td>EFExportsPerCap</td> <td>0.0012357 </td> <td>0.00353676  </td> <td>0          </td> <td>0.000464302   </td> <td>0            </td> <td>0.0379656</td> <td>0.0432024</td> <td>886.033                 </td> <td>3370000   </td>\n",
       "        </tr>\n",
       "        <tr>\n",
       "            <td>Armenia</td> <td>ARM             </td> <td>Asia     </td> <td>Western Asia</td> <td>1994</td> <td>EFExportsPerCap</td> <td>0.00172328</td> <td>0.00531566  </td> <td>6.82e-06   </td> <td>0.000614833   </td> <td>0            </td> <td>0.0369929</td> <td>0.0446535</td> <td>956.471                 </td> <td>3290000   </td>\n",
       "        </tr>\n",
       "        <tr>\n",
       "            <td>Armenia</td> <td>ARM             </td> <td>Asia     </td> <td>Western Asia</td> <td>1995</td> <td>EFExportsPerCap</td> <td>0.00164015</td> <td>0.006396    </td> <td>8.53e-06   </td> <td>0.000651342   </td> <td>0            </td> <td>0.0461482</td> <td>0.0548442</td> <td>1043.54                 </td> <td>3223000   </td>\n",
       "        </tr>\n",
       "        <tr>\n",
       "            <td>Armenia</td> <td>ARM             </td> <td>Asia     </td> <td>Western Asia</td> <td>1996</td> <td>EFExportsPerCap</td> <td>0.00153904</td> <td>0.00543253  </td> <td>8.68e-06   </td> <td>0.000588442   </td> <td>0            </td> <td>0.038689 </td> <td>0.0462576</td> <td>1121.88                 </td> <td>3173000   </td>\n",
       "        </tr>\n",
       "        <tr>\n",
       "            <td>Armenia</td> <td>ARM             </td> <td>Asia     </td> <td>Western Asia</td> <td>1997</td> <td>EFExportsPerCap</td> <td>0.00228647</td> <td>0.00553701  </td> <td>6.63e-05   </td> <td>0.000601495   </td> <td>0            </td> <td>0.0582937</td> <td>0.0667849</td> <td>1172.14                 </td> <td>3138000   </td>\n",
       "        </tr>\n",
       "        <tr>\n",
       "            <td>Armenia</td> <td>ARM             </td> <td>Asia     </td> <td>Western Asia</td> <td>1998</td> <td>EFExportsPerCap</td> <td>0.00223935</td> <td>0.00491827  </td> <td>6.15e-05   </td> <td>0.000803653   </td> <td>0            </td> <td>0.0499158</td> <td>0.0579386</td> <td>1267.58                 </td> <td>3113000   </td>\n",
       "        </tr>\n",
       "        <tr>\n",
       "            <td>Armenia</td> <td>ARM             </td> <td>Asia     </td> <td>Western Asia</td> <td>1999</td> <td>EFExportsPerCap</td> <td>0.0026326 </td> <td>0.00450423  </td> <td>6.18e-05   </td> <td>0.000634444   </td> <td>0            </td> <td>0.0409548</td> <td>0.0487879</td> <td>1317.74                 </td> <td>3094000   </td>\n",
       "        </tr>\n",
       "        <tr>\n",
       "            <td>Armenia</td> <td>ARM             </td> <td>Asia     </td> <td>Western Asia</td> <td>2000</td> <td>EFExportsPerCap</td> <td>0.0030159 </td> <td>0.00498444  </td> <td>0.000895791</td> <td>0.000222848   </td> <td>0            </td> <td>0.0447844</td> <td>0.0539034</td> <td>1404.32                 </td> <td>3076000   </td>\n",
       "        </tr>\n",
       "        <tr>\n",
       "            <td>Armenia</td> <td>ARM             </td> <td>Asia     </td> <td>Western Asia</td> <td>2001</td> <td>EFExportsPerCap</td> <td>0.00455475</td> <td>0.00396925  </td> <td>0.000708251</td> <td>0.000295281   </td> <td>0            </td> <td>0.0556394</td> <td>0.0651669</td> <td>1548.08                 </td> <td>3060000   </td>\n",
       "        </tr>\n",
       "    </tbody>\n",
       "</table>\n",
       "<p>... (4458 rows omitted)</p>"
      ],
      "text/plain": [
       "country | ISO alpha-3 code | UN_region | UN_subregion | year | record          | crop_land  | grazing_land | forest_land | fishing_ground | built_up_land | carbon    | total     | Percapita GDP (2010 USD) | population\n",
       "Armenia | ARM              | Asia      | Western Asia | 1992 | EFExportsPerCap | 0.00112491 | 0.00228304   | 0           | 0.000438381    | 0             | 0.0481904 | 0.0520368 | 949.033                  | 3449000\n",
       "Armenia | ARM              | Asia      | Western Asia | 1993 | EFExportsPerCap | 0.0012357  | 0.00353676   | 0           | 0.000464302    | 0             | 0.0379656 | 0.0432024 | 886.033                  | 3370000\n",
       "Armenia | ARM              | Asia      | Western Asia | 1994 | EFExportsPerCap | 0.00172328 | 0.00531566   | 6.82e-06    | 0.000614833    | 0             | 0.0369929 | 0.0446535 | 956.471                  | 3290000\n",
       "Armenia | ARM              | Asia      | Western Asia | 1995 | EFExportsPerCap | 0.00164015 | 0.006396     | 8.53e-06    | 0.000651342    | 0             | 0.0461482 | 0.0548442 | 1043.54                  | 3223000\n",
       "Armenia | ARM              | Asia      | Western Asia | 1996 | EFExportsPerCap | 0.00153904 | 0.00543253   | 8.68e-06    | 0.000588442    | 0             | 0.038689  | 0.0462576 | 1121.88                  | 3173000\n",
       "Armenia | ARM              | Asia      | Western Asia | 1997 | EFExportsPerCap | 0.00228647 | 0.00553701   | 6.63e-05    | 0.000601495    | 0             | 0.0582937 | 0.0667849 | 1172.14                  | 3138000\n",
       "Armenia | ARM              | Asia      | Western Asia | 1998 | EFExportsPerCap | 0.00223935 | 0.00491827   | 6.15e-05    | 0.000803653    | 0             | 0.0499158 | 0.0579386 | 1267.58                  | 3113000\n",
       "Armenia | ARM              | Asia      | Western Asia | 1999 | EFExportsPerCap | 0.0026326  | 0.00450423   | 6.18e-05    | 0.000634444    | 0             | 0.0409548 | 0.0487879 | 1317.74                  | 3094000\n",
       "Armenia | ARM              | Asia      | Western Asia | 2000 | EFExportsPerCap | 0.0030159  | 0.00498444   | 0.000895791 | 0.000222848    | 0             | 0.0447844 | 0.0539034 | 1404.32                  | 3076000\n",
       "Armenia | ARM              | Asia      | Western Asia | 2001 | EFExportsPerCap | 0.00455475 | 0.00396925   | 0.000708251 | 0.000295281    | 0             | 0.0556394 | 0.0651669 | 1548.08                  | 3060000\n",
       "... (4458 rows omitted)"
      ]
     },
     "execution_count": 8,
     "metadata": {},
     "output_type": "execute_result"
    }
   ],
   "source": [
    "nfa_EFExportsPerCap = nfa.where(\"record\", \"EFExportsPerCap\")\n",
    "nfa_EFExportsPerCap\n"
   ]
  },
  {
   "cell_type": "code",
   "execution_count": 9,
   "metadata": {},
   "outputs": [
    {
     "data": {
      "text/html": [
       "<table border=\"1\" class=\"dataframe\">\n",
       "    <thead>\n",
       "        <tr>\n",
       "            <th>country</th> <th>ISO alpha-3 code</th> <th>UN_region</th> <th>UN_subregion</th> <th>year</th> <th>record</th> <th>crop_land</th> <th>grazing_land</th> <th>forest_land</th> <th>fishing_ground</th> <th>built_up_land</th> <th>carbon</th> <th>total</th> <th>Percapita GDP (2010 USD)</th> <th>population</th>\n",
       "        </tr>\n",
       "    </thead>\n",
       "    <tbody>\n",
       "        <tr>\n",
       "            <td>Armenia</td> <td>ARM             </td> <td>Asia     </td> <td>Western Asia</td> <td>1992</td> <td>EFImportsPerCap</td> <td>0.230919 </td> <td>0.0563969   </td> <td>1.25e-06   </td> <td>0.00331238    </td> <td>0            </td> <td>0.0879112</td> <td>0.378541</td> <td>949.033                 </td> <td>3449000   </td>\n",
       "        </tr>\n",
       "        <tr>\n",
       "            <td>Armenia</td> <td>ARM             </td> <td>Asia     </td> <td>Western Asia</td> <td>1993</td> <td>EFImportsPerCap</td> <td>0.227991 </td> <td>0.0659396   </td> <td>1.07e-05   </td> <td>0.003083      </td> <td>0            </td> <td>0.0709482</td> <td>0.367973</td> <td>886.033                 </td> <td>3370000   </td>\n",
       "        </tr>\n",
       "        <tr>\n",
       "            <td>Armenia</td> <td>ARM             </td> <td>Asia     </td> <td>Western Asia</td> <td>1994</td> <td>EFImportsPerCap</td> <td>0.28372  </td> <td>0.178858    </td> <td>3.02e-05   </td> <td>0.00362704    </td> <td>0            </td> <td>0.0702801</td> <td>0.536515</td> <td>956.471                 </td> <td>3290000   </td>\n",
       "        </tr>\n",
       "        <tr>\n",
       "            <td>Armenia</td> <td>ARM             </td> <td>Asia     </td> <td>Western Asia</td> <td>1995</td> <td>EFImportsPerCap</td> <td>0.217006 </td> <td>0.0559497   </td> <td>2.54e-05   </td> <td>0.00397511    </td> <td>0            </td> <td>0.0858309</td> <td>0.362787</td> <td>1043.54                 </td> <td>3223000   </td>\n",
       "        </tr>\n",
       "        <tr>\n",
       "            <td>Armenia</td> <td>ARM             </td> <td>Asia     </td> <td>Western Asia</td> <td>1996</td> <td>EFImportsPerCap</td> <td>0.250209 </td> <td>0.0790818   </td> <td>3.09e-05   </td> <td>0.0032336     </td> <td>0            </td> <td>0.0992723</td> <td>0.431828</td> <td>1121.88                 </td> <td>3173000   </td>\n",
       "        </tr>\n",
       "        <tr>\n",
       "            <td>Armenia</td> <td>ARM             </td> <td>Asia     </td> <td>Western Asia</td> <td>1997</td> <td>EFImportsPerCap</td> <td>0.246961 </td> <td>0.110021    </td> <td>0.00169447 </td> <td>0.00362294    </td> <td>0            </td> <td>0.102716 </td> <td>0.465015</td> <td>1172.14                 </td> <td>3138000   </td>\n",
       "        </tr>\n",
       "        <tr>\n",
       "            <td>Armenia</td> <td>ARM             </td> <td>Asia     </td> <td>Western Asia</td> <td>1998</td> <td>EFImportsPerCap</td> <td>0.272058 </td> <td>0.0866375   </td> <td>0.00212518 </td> <td>0.00506492    </td> <td>0            </td> <td>0.106712 </td> <td>0.472598</td> <td>1267.58                 </td> <td>3113000   </td>\n",
       "        </tr>\n",
       "        <tr>\n",
       "            <td>Armenia</td> <td>ARM             </td> <td>Asia     </td> <td>Western Asia</td> <td>1999</td> <td>EFImportsPerCap</td> <td>0.197355 </td> <td>0.0682139   </td> <td>0.00236669 </td> <td>0.00620177    </td> <td>0            </td> <td>0.232219 </td> <td>0.506355</td> <td>1317.74                 </td> <td>3094000   </td>\n",
       "        </tr>\n",
       "        <tr>\n",
       "            <td>Armenia</td> <td>ARM             </td> <td>Asia     </td> <td>Western Asia</td> <td>2000</td> <td>EFImportsPerCap</td> <td>0.252077 </td> <td>0.0598637   </td> <td>0.00798247 </td> <td>0.00793232    </td> <td>0            </td> <td>0.13933  </td> <td>0.467185</td> <td>1404.32                 </td> <td>3076000   </td>\n",
       "        </tr>\n",
       "        <tr>\n",
       "            <td>Armenia</td> <td>ARM             </td> <td>Asia     </td> <td>Western Asia</td> <td>2001</td> <td>EFImportsPerCap</td> <td>0.224441 </td> <td>0.059285    </td> <td>0.0324573  </td> <td>0.00778454    </td> <td>0            </td> <td>0.151838 </td> <td>0.475806</td> <td>1548.08                 </td> <td>3060000   </td>\n",
       "        </tr>\n",
       "    </tbody>\n",
       "</table>\n",
       "<p>... (4458 rows omitted)</p>"
      ],
      "text/plain": [
       "country | ISO alpha-3 code | UN_region | UN_subregion | year | record          | crop_land | grazing_land | forest_land | fishing_ground | built_up_land | carbon    | total    | Percapita GDP (2010 USD) | population\n",
       "Armenia | ARM              | Asia      | Western Asia | 1992 | EFImportsPerCap | 0.230919  | 0.0563969    | 1.25e-06    | 0.00331238     | 0             | 0.0879112 | 0.378541 | 949.033                  | 3449000\n",
       "Armenia | ARM              | Asia      | Western Asia | 1993 | EFImportsPerCap | 0.227991  | 0.0659396    | 1.07e-05    | 0.003083       | 0             | 0.0709482 | 0.367973 | 886.033                  | 3370000\n",
       "Armenia | ARM              | Asia      | Western Asia | 1994 | EFImportsPerCap | 0.28372   | 0.178858     | 3.02e-05    | 0.00362704     | 0             | 0.0702801 | 0.536515 | 956.471                  | 3290000\n",
       "Armenia | ARM              | Asia      | Western Asia | 1995 | EFImportsPerCap | 0.217006  | 0.0559497    | 2.54e-05    | 0.00397511     | 0             | 0.0858309 | 0.362787 | 1043.54                  | 3223000\n",
       "Armenia | ARM              | Asia      | Western Asia | 1996 | EFImportsPerCap | 0.250209  | 0.0790818    | 3.09e-05    | 0.0032336      | 0             | 0.0992723 | 0.431828 | 1121.88                  | 3173000\n",
       "Armenia | ARM              | Asia      | Western Asia | 1997 | EFImportsPerCap | 0.246961  | 0.110021     | 0.00169447  | 0.00362294     | 0             | 0.102716  | 0.465015 | 1172.14                  | 3138000\n",
       "Armenia | ARM              | Asia      | Western Asia | 1998 | EFImportsPerCap | 0.272058  | 0.0866375    | 0.00212518  | 0.00506492     | 0             | 0.106712  | 0.472598 | 1267.58                  | 3113000\n",
       "Armenia | ARM              | Asia      | Western Asia | 1999 | EFImportsPerCap | 0.197355  | 0.0682139    | 0.00236669  | 0.00620177     | 0             | 0.232219  | 0.506355 | 1317.74                  | 3094000\n",
       "Armenia | ARM              | Asia      | Western Asia | 2000 | EFImportsPerCap | 0.252077  | 0.0598637    | 0.00798247  | 0.00793232     | 0             | 0.13933   | 0.467185 | 1404.32                  | 3076000\n",
       "Armenia | ARM              | Asia      | Western Asia | 2001 | EFImportsPerCap | 0.224441  | 0.059285     | 0.0324573   | 0.00778454     | 0             | 0.151838  | 0.475806 | 1548.08                  | 3060000\n",
       "... (4458 rows omitted)"
      ]
     },
     "execution_count": 9,
     "metadata": {},
     "output_type": "execute_result"
    }
   ],
   "source": [
    "nfa_EFImportsPerCap = nfa.where(\"record\", \"EFImportsPerCap\")\n",
    "nfa_EFImportsPerCap\n"
   ]
  },
  {
   "cell_type": "code",
   "execution_count": 10,
   "metadata": {},
   "outputs": [
    {
     "data": {
      "text/html": [
       "<table border=\"1\" class=\"dataframe\">\n",
       "    <thead>\n",
       "        <tr>\n",
       "            <th>country</th> <th>ISO alpha-3 code</th> <th>UN_region</th> <th>UN_subregion</th> <th>year</th> <th>record</th> <th>crop_land</th> <th>grazing_land</th> <th>forest_land</th> <th>fishing_ground</th> <th>built_up_land</th> <th>carbon</th> <th>total</th> <th>Percapita GDP (2010 USD)</th> <th>population</th>\n",
       "        </tr>\n",
       "    </thead>\n",
       "    <tbody>\n",
       "        <tr>\n",
       "            <td>Armenia</td> <td>ARM             </td> <td>Asia     </td> <td>Western Asia</td> <td>1992</td> <td>EFImportsTotGHA</td> <td>796555   </td> <td>194541      </td> <td>4.32784    </td> <td>11426.1       </td> <td>0            </td> <td>303250</td> <td>1.30578e+06</td> <td>949.033                 </td> <td>3449000   </td>\n",
       "        </tr>\n",
       "        <tr>\n",
       "            <td>Armenia</td> <td>ARM             </td> <td>Asia     </td> <td>Western Asia</td> <td>1993</td> <td>EFImportsTotGHA</td> <td>768256   </td> <td>222195      </td> <td>36.0341    </td> <td>10388.7       </td> <td>0            </td> <td>239072</td> <td>1.23995e+06</td> <td>886.033                 </td> <td>3370000   </td>\n",
       "        </tr>\n",
       "        <tr>\n",
       "            <td>Armenia</td> <td>ARM             </td> <td>Asia     </td> <td>Western Asia</td> <td>1994</td> <td>EFImportsTotGHA</td> <td>933423   </td> <td>588431      </td> <td>99.2983    </td> <td>11932.8       </td> <td>0            </td> <td>231217</td> <td>1.7651e+06 </td> <td>956.471                 </td> <td>3290000   </td>\n",
       "        </tr>\n",
       "        <tr>\n",
       "            <td>Armenia</td> <td>ARM             </td> <td>Asia     </td> <td>Western Asia</td> <td>1995</td> <td>EFImportsTotGHA</td> <td>699446   </td> <td>180335      </td> <td>81.8767    </td> <td>12812.5       </td> <td>0            </td> <td>276647</td> <td>1.16932e+06</td> <td>1043.54                 </td> <td>3223000   </td>\n",
       "        </tr>\n",
       "        <tr>\n",
       "            <td>Armenia</td> <td>ARM             </td> <td>Asia     </td> <td>Western Asia</td> <td>1996</td> <td>EFImportsTotGHA</td> <td>794022   </td> <td>250961      </td> <td>98.1737    </td> <td>10261.6       </td> <td>0            </td> <td>315034</td> <td>1.37038e+06</td> <td>1121.88                 </td> <td>3173000   </td>\n",
       "        </tr>\n",
       "        <tr>\n",
       "            <td>Armenia</td> <td>ARM             </td> <td>Asia     </td> <td>Western Asia</td> <td>1997</td> <td>EFImportsTotGHA</td> <td>774876   </td> <td>345208      </td> <td>5316.64    </td> <td>11367.5       </td> <td>0            </td> <td>322287</td> <td>1.45905e+06</td> <td>1172.14                 </td> <td>3138000   </td>\n",
       "        </tr>\n",
       "        <tr>\n",
       "            <td>Armenia</td> <td>ARM             </td> <td>Asia     </td> <td>Western Asia</td> <td>1998</td> <td>EFImportsTotGHA</td> <td>846906   </td> <td>269699      </td> <td>6615.59    </td> <td>15766.9       </td> <td>0            </td> <td>332189</td> <td>1.47118e+06</td> <td>1267.58                 </td> <td>3113000   </td>\n",
       "        </tr>\n",
       "        <tr>\n",
       "            <td>Armenia</td> <td>ARM             </td> <td>Asia     </td> <td>Western Asia</td> <td>1999</td> <td>EFImportsTotGHA</td> <td>610580   </td> <td>211041      </td> <td>7322.11    </td> <td>19187.2       </td> <td>0            </td> <td>718442</td> <td>1.56657e+06</td> <td>1317.74                 </td> <td>3094000   </td>\n",
       "        </tr>\n",
       "        <tr>\n",
       "            <td>Armenia</td> <td>ARM             </td> <td>Asia     </td> <td>Western Asia</td> <td>2000</td> <td>EFImportsTotGHA</td> <td>775413   </td> <td>184147      </td> <td>24554.9    </td> <td>24400.6       </td> <td>0            </td> <td>428593</td> <td>1.43711e+06</td> <td>1404.32                 </td> <td>3076000   </td>\n",
       "        </tr>\n",
       "        <tr>\n",
       "            <td>Armenia</td> <td>ARM             </td> <td>Asia     </td> <td>Western Asia</td> <td>2001</td> <td>EFImportsTotGHA</td> <td>686797   </td> <td>181415      </td> <td>99320.6    </td> <td>23821         </td> <td>0            </td> <td>464631</td> <td>1.45598e+06</td> <td>1548.08                 </td> <td>3060000   </td>\n",
       "        </tr>\n",
       "    </tbody>\n",
       "</table>\n",
       "<p>... (4458 rows omitted)</p>"
      ],
      "text/plain": [
       "country | ISO alpha-3 code | UN_region | UN_subregion | year | record          | crop_land | grazing_land | forest_land | fishing_ground | built_up_land | carbon | total       | Percapita GDP (2010 USD) | population\n",
       "Armenia | ARM              | Asia      | Western Asia | 1992 | EFImportsTotGHA | 796555    | 194541       | 4.32784     | 11426.1        | 0             | 303250 | 1.30578e+06 | 949.033                  | 3449000\n",
       "Armenia | ARM              | Asia      | Western Asia | 1993 | EFImportsTotGHA | 768256    | 222195       | 36.0341     | 10388.7        | 0             | 239072 | 1.23995e+06 | 886.033                  | 3370000\n",
       "Armenia | ARM              | Asia      | Western Asia | 1994 | EFImportsTotGHA | 933423    | 588431       | 99.2983     | 11932.8        | 0             | 231217 | 1.7651e+06  | 956.471                  | 3290000\n",
       "Armenia | ARM              | Asia      | Western Asia | 1995 | EFImportsTotGHA | 699446    | 180335       | 81.8767     | 12812.5        | 0             | 276647 | 1.16932e+06 | 1043.54                  | 3223000\n",
       "Armenia | ARM              | Asia      | Western Asia | 1996 | EFImportsTotGHA | 794022    | 250961       | 98.1737     | 10261.6        | 0             | 315034 | 1.37038e+06 | 1121.88                  | 3173000\n",
       "Armenia | ARM              | Asia      | Western Asia | 1997 | EFImportsTotGHA | 774876    | 345208       | 5316.64     | 11367.5        | 0             | 322287 | 1.45905e+06 | 1172.14                  | 3138000\n",
       "Armenia | ARM              | Asia      | Western Asia | 1998 | EFImportsTotGHA | 846906    | 269699       | 6615.59     | 15766.9        | 0             | 332189 | 1.47118e+06 | 1267.58                  | 3113000\n",
       "Armenia | ARM              | Asia      | Western Asia | 1999 | EFImportsTotGHA | 610580    | 211041       | 7322.11     | 19187.2        | 0             | 718442 | 1.56657e+06 | 1317.74                  | 3094000\n",
       "Armenia | ARM              | Asia      | Western Asia | 2000 | EFImportsTotGHA | 775413    | 184147       | 24554.9     | 24400.6        | 0             | 428593 | 1.43711e+06 | 1404.32                  | 3076000\n",
       "Armenia | ARM              | Asia      | Western Asia | 2001 | EFImportsTotGHA | 686797    | 181415       | 99320.6     | 23821          | 0             | 464631 | 1.45598e+06 | 1548.08                  | 3060000\n",
       "... (4458 rows omitted)"
      ]
     },
     "execution_count": 10,
     "metadata": {},
     "output_type": "execute_result"
    }
   ],
   "source": [
    "nfa_EFImportsTotGHA = nfa.where(\"record\", \"EFImportsTotGHA\")\n",
    "nfa_EFImportsTotGHA\n"
   ]
  },
  {
   "cell_type": "code",
   "execution_count": 11,
   "metadata": {},
   "outputs": [
    {
     "data": {
      "text/html": [
       "<table border=\"1\" class=\"dataframe\">\n",
       "    <thead>\n",
       "        <tr>\n",
       "            <th>country</th> <th>ISO alpha-3 code</th> <th>UN_region</th> <th>UN_subregion</th> <th>year</th> <th>record</th> <th>crop_land</th> <th>grazing_land</th> <th>forest_land</th> <th>fishing_ground</th> <th>built_up_land</th> <th>carbon</th> <th>total</th> <th>Percapita GDP (2010 USD)</th> <th>population</th>\n",
       "        </tr>\n",
       "    </thead>\n",
       "    <tbody>\n",
       "        <tr>\n",
       "            <td>Armenia</td> <td>ARM             </td> <td>Asia     </td> <td>Western Asia</td> <td>1992</td> <td>EFProdPerCap</td> <td>0.161129 </td> <td>0.135023    </td> <td>0          </td> <td>0.00126364    </td> <td>0.0336685    </td> <td>1.0725  </td> <td>1.40359 </td> <td>949.033                 </td> <td>3449000   </td>\n",
       "        </tr>\n",
       "        <tr>\n",
       "            <td>Armenia</td> <td>ARM             </td> <td>Asia     </td> <td>Western Asia</td> <td>1993</td> <td>EFProdPerCap</td> <td>0.159855 </td> <td>0.138346    </td> <td>0          </td> <td>0.00119716    </td> <td>0.0319676    </td> <td>0.502294</td> <td>0.83366 </td> <td>886.033                 </td> <td>3370000   </td>\n",
       "        </tr>\n",
       "        <tr>\n",
       "            <td>Armenia</td> <td>ARM             </td> <td>Asia     </td> <td>Western Asia</td> <td>1994</td> <td>EFProdPerCap</td> <td>0.163498 </td> <td>0.143906    </td> <td>0          </td> <td>0.000753724   </td> <td>0.0314755    </td> <td>0.284382</td> <td>0.624015</td> <td>956.471                 </td> <td>3290000   </td>\n",
       "        </tr>\n",
       "        <tr>\n",
       "            <td>Armenia</td> <td>ARM             </td> <td>Asia     </td> <td>Western Asia</td> <td>1995</td> <td>EFProdPerCap</td> <td>0.164997 </td> <td>0.146662    </td> <td>0          </td> <td>0.000602459   </td> <td>0.0314974    </td> <td>0.376497</td> <td>0.720255</td> <td>1043.54                 </td> <td>3223000   </td>\n",
       "        </tr>\n",
       "        <tr>\n",
       "            <td>Armenia</td> <td>ARM             </td> <td>Asia     </td> <td>Western Asia</td> <td>1996</td> <td>EFProdPerCap</td> <td>0.192977 </td> <td>0.149555    </td> <td>0          </td> <td>0.00038486    </td> <td>0.0354101    </td> <td>0.274102</td> <td>0.65243 </td> <td>1121.88                 </td> <td>3173000   </td>\n",
       "        </tr>\n",
       "        <tr>\n",
       "            <td>Armenia</td> <td>ARM             </td> <td>Asia     </td> <td>Western Asia</td> <td>1997</td> <td>EFProdPerCap</td> <td>0.154369 </td> <td>0.153854    </td> <td>0.00780425 </td> <td>0.000435464   </td> <td>0.0284563    </td> <td>0.365224</td> <td>0.710144</td> <td>1172.14                 </td> <td>3138000   </td>\n",
       "        </tr>\n",
       "        <tr>\n",
       "            <td>Armenia</td> <td>ARM             </td> <td>Asia     </td> <td>Western Asia</td> <td>1998</td> <td>EFProdPerCap</td> <td>0.194011 </td> <td>0.132884    </td> <td>0          </td> <td>0.000512049   </td> <td>0.0358421    </td> <td>0.375733</td> <td>0.738982</td> <td>1267.58                 </td> <td>3113000   </td>\n",
       "        </tr>\n",
       "        <tr>\n",
       "            <td>Armenia</td> <td>ARM             </td> <td>Asia     </td> <td>Western Asia</td> <td>1999</td> <td>EFProdPerCap</td> <td>0.187179 </td> <td>0.136321    </td> <td>0          </td> <td>0.00105351    </td> <td>0.0347196    </td> <td>0.329591</td> <td>0.688864</td> <td>1317.74                 </td> <td>3094000   </td>\n",
       "        </tr>\n",
       "        <tr>\n",
       "            <td>Armenia</td> <td>ARM             </td> <td>Asia     </td> <td>Western Asia</td> <td>2000</td> <td>EFProdPerCap</td> <td>0.160494 </td> <td>0.144998    </td> <td>0.00733311 </td> <td>0.00107531    </td> <td>0.0295992    </td> <td>0.38748 </td> <td>0.730979</td> <td>1404.32                 </td> <td>3076000   </td>\n",
       "        </tr>\n",
       "        <tr>\n",
       "            <td>Armenia</td> <td>ARM             </td> <td>Asia     </td> <td>Western Asia</td> <td>2001</td> <td>EFProdPerCap</td> <td>0.214166 </td> <td>0.146664    </td> <td>0.00704145 </td> <td>0.000866566   </td> <td>0.0388931    </td> <td>0.405608</td> <td>0.813239</td> <td>1548.08                 </td> <td>3060000   </td>\n",
       "        </tr>\n",
       "    </tbody>\n",
       "</table>\n",
       "<p>... (4458 rows omitted)</p>"
      ],
      "text/plain": [
       "country | ISO alpha-3 code | UN_region | UN_subregion | year | record       | crop_land | grazing_land | forest_land | fishing_ground | built_up_land | carbon   | total    | Percapita GDP (2010 USD) | population\n",
       "Armenia | ARM              | Asia      | Western Asia | 1992 | EFProdPerCap | 0.161129  | 0.135023     | 0           | 0.00126364     | 0.0336685     | 1.0725   | 1.40359  | 949.033                  | 3449000\n",
       "Armenia | ARM              | Asia      | Western Asia | 1993 | EFProdPerCap | 0.159855  | 0.138346     | 0           | 0.00119716     | 0.0319676     | 0.502294 | 0.83366  | 886.033                  | 3370000\n",
       "Armenia | ARM              | Asia      | Western Asia | 1994 | EFProdPerCap | 0.163498  | 0.143906     | 0           | 0.000753724    | 0.0314755     | 0.284382 | 0.624015 | 956.471                  | 3290000\n",
       "Armenia | ARM              | Asia      | Western Asia | 1995 | EFProdPerCap | 0.164997  | 0.146662     | 0           | 0.000602459    | 0.0314974     | 0.376497 | 0.720255 | 1043.54                  | 3223000\n",
       "Armenia | ARM              | Asia      | Western Asia | 1996 | EFProdPerCap | 0.192977  | 0.149555     | 0           | 0.00038486     | 0.0354101     | 0.274102 | 0.65243  | 1121.88                  | 3173000\n",
       "Armenia | ARM              | Asia      | Western Asia | 1997 | EFProdPerCap | 0.154369  | 0.153854     | 0.00780425  | 0.000435464    | 0.0284563     | 0.365224 | 0.710144 | 1172.14                  | 3138000\n",
       "Armenia | ARM              | Asia      | Western Asia | 1998 | EFProdPerCap | 0.194011  | 0.132884     | 0           | 0.000512049    | 0.0358421     | 0.375733 | 0.738982 | 1267.58                  | 3113000\n",
       "Armenia | ARM              | Asia      | Western Asia | 1999 | EFProdPerCap | 0.187179  | 0.136321     | 0           | 0.00105351     | 0.0347196     | 0.329591 | 0.688864 | 1317.74                  | 3094000\n",
       "Armenia | ARM              | Asia      | Western Asia | 2000 | EFProdPerCap | 0.160494  | 0.144998     | 0.00733311  | 0.00107531     | 0.0295992     | 0.38748  | 0.730979 | 1404.32                  | 3076000\n",
       "Armenia | ARM              | Asia      | Western Asia | 2001 | EFProdPerCap | 0.214166  | 0.146664     | 0.00704145  | 0.000866566    | 0.0388931     | 0.405608 | 0.813239 | 1548.08                  | 3060000\n",
       "... (4458 rows omitted)"
      ]
     },
     "execution_count": 11,
     "metadata": {},
     "output_type": "execute_result"
    }
   ],
   "source": [
    "nfa_EFProdPerCap = nfa.where(\"record\", \"EFProdPerCap\")\n",
    "nfa_EFProdPerCap"
   ]
  },
  {
   "cell_type": "code",
   "execution_count": 12,
   "metadata": {},
   "outputs": [
    {
     "data": {
      "text/html": [
       "<table border=\"1\" class=\"dataframe\">\n",
       "    <thead>\n",
       "        <tr>\n",
       "            <th>country</th> <th>ISO alpha-3 code</th> <th>UN_region</th> <th>UN_subregion</th> <th>year</th> <th>record</th> <th>crop_land</th> <th>grazing_land</th> <th>forest_land</th> <th>fishing_ground</th> <th>built_up_land</th> <th>carbon</th> <th>total</th> <th>Percapita GDP (2010 USD)</th> <th>population</th>\n",
       "        </tr>\n",
       "    </thead>\n",
       "    <tbody>\n",
       "        <tr>\n",
       "            <td>Armenia</td> <td>ARM             </td> <td>Asia     </td> <td>Western Asia</td> <td>1992</td> <td>EFProdTotGHA</td> <td>555813   </td> <td>465763      </td> <td>0          </td> <td>4358.94       </td> <td>116140       </td> <td>3.6996e+06 </td> <td>4.84168e+06</td> <td>949.033                 </td> <td>3449000   </td>\n",
       "        </tr>\n",
       "        <tr>\n",
       "            <td>Armenia</td> <td>ARM             </td> <td>Asia     </td> <td>Western Asia</td> <td>1993</td> <td>EFProdTotGHA</td> <td>538659   </td> <td>466182      </td> <td>0          </td> <td>4034.04       </td> <td>107720       </td> <td>1.69257e+06</td> <td>2.80916e+06</td> <td>886.033                 </td> <td>3370000   </td>\n",
       "        </tr>\n",
       "        <tr>\n",
       "            <td>Armenia</td> <td>ARM             </td> <td>Asia     </td> <td>Western Asia</td> <td>1994</td> <td>EFProdTotGHA</td> <td>537898   </td> <td>473441      </td> <td>0          </td> <td>2479.71       </td> <td>103553       </td> <td>935600     </td> <td>2.05297e+06</td> <td>956.471                 </td> <td>3290000   </td>\n",
       "        </tr>\n",
       "        <tr>\n",
       "            <td>Armenia</td> <td>ARM             </td> <td>Asia     </td> <td>Western Asia</td> <td>1995</td> <td>EFProdTotGHA</td> <td>531812   </td> <td>472715      </td> <td>0          </td> <td>1941.83       </td> <td>101521       </td> <td>1.21352e+06</td> <td>2.32151e+06</td> <td>1043.54                 </td> <td>3223000   </td>\n",
       "        </tr>\n",
       "        <tr>\n",
       "            <td>Armenia</td> <td>ARM             </td> <td>Asia     </td> <td>Western Asia</td> <td>1996</td> <td>EFProdTotGHA</td> <td>612401   </td> <td>474603      </td> <td>0          </td> <td>1221.33       </td> <td>112371       </td> <td>869845     </td> <td>2.07044e+06</td> <td>1121.88                 </td> <td>3173000   </td>\n",
       "        </tr>\n",
       "        <tr>\n",
       "            <td>Armenia</td> <td>ARM             </td> <td>Asia     </td> <td>Western Asia</td> <td>1997</td> <td>EFProdTotGHA</td> <td>484357   </td> <td>482741      </td> <td>24487      </td> <td>1366.33       </td> <td>89286        </td> <td>1.14594e+06</td> <td>2.22818e+06</td> <td>1172.14                 </td> <td>3138000   </td>\n",
       "        </tr>\n",
       "        <tr>\n",
       "            <td>Armenia</td> <td>ARM             </td> <td>Asia     </td> <td>Western Asia</td> <td>1998</td> <td>EFProdTotGHA</td> <td>603947   </td> <td>413663      </td> <td>0          </td> <td>1593.99       </td> <td>111575       </td> <td>1.16964e+06</td> <td>2.30042e+06</td> <td>1267.58                 </td> <td>3113000   </td>\n",
       "        </tr>\n",
       "        <tr>\n",
       "            <td>Armenia</td> <td>ARM             </td> <td>Asia     </td> <td>Western Asia</td> <td>1999</td> <td>EFProdTotGHA</td> <td>579098   </td> <td>421752      </td> <td>0          </td> <td>3259.36       </td> <td>107416       </td> <td>1.01969e+06</td> <td>2.13122e+06</td> <td>1317.74                 </td> <td>3094000   </td>\n",
       "        </tr>\n",
       "        <tr>\n",
       "            <td>Armenia</td> <td>ARM             </td> <td>Asia     </td> <td>Western Asia</td> <td>2000</td> <td>EFProdTotGHA</td> <td>493694   </td> <td>446028      </td> <td>22557.4    </td> <td>3307.77       </td> <td>91050.2      </td> <td>1.19193e+06</td> <td>2.24856e+06</td> <td>1404.32                 </td> <td>3076000   </td>\n",
       "        </tr>\n",
       "        <tr>\n",
       "            <td>Armenia</td> <td>ARM             </td> <td>Asia     </td> <td>Western Asia</td> <td>2001</td> <td>EFProdTotGHA</td> <td>655356   </td> <td>448799      </td> <td>21547.1    </td> <td>2651.73       </td> <td>119014       </td> <td>1.24118e+06</td> <td>2.48854e+06</td> <td>1548.08                 </td> <td>3060000   </td>\n",
       "        </tr>\n",
       "    </tbody>\n",
       "</table>\n",
       "<p>... (4458 rows omitted)</p>"
      ],
      "text/plain": [
       "country | ISO alpha-3 code | UN_region | UN_subregion | year | record       | crop_land | grazing_land | forest_land | fishing_ground | built_up_land | carbon      | total       | Percapita GDP (2010 USD) | population\n",
       "Armenia | ARM              | Asia      | Western Asia | 1992 | EFProdTotGHA | 555813    | 465763       | 0           | 4358.94        | 116140        | 3.6996e+06  | 4.84168e+06 | 949.033                  | 3449000\n",
       "Armenia | ARM              | Asia      | Western Asia | 1993 | EFProdTotGHA | 538659    | 466182       | 0           | 4034.04        | 107720        | 1.69257e+06 | 2.80916e+06 | 886.033                  | 3370000\n",
       "Armenia | ARM              | Asia      | Western Asia | 1994 | EFProdTotGHA | 537898    | 473441       | 0           | 2479.71        | 103553        | 935600      | 2.05297e+06 | 956.471                  | 3290000\n",
       "Armenia | ARM              | Asia      | Western Asia | 1995 | EFProdTotGHA | 531812    | 472715       | 0           | 1941.83        | 101521        | 1.21352e+06 | 2.32151e+06 | 1043.54                  | 3223000\n",
       "Armenia | ARM              | Asia      | Western Asia | 1996 | EFProdTotGHA | 612401    | 474603       | 0           | 1221.33        | 112371        | 869845      | 2.07044e+06 | 1121.88                  | 3173000\n",
       "Armenia | ARM              | Asia      | Western Asia | 1997 | EFProdTotGHA | 484357    | 482741       | 24487       | 1366.33        | 89286         | 1.14594e+06 | 2.22818e+06 | 1172.14                  | 3138000\n",
       "Armenia | ARM              | Asia      | Western Asia | 1998 | EFProdTotGHA | 603947    | 413663       | 0           | 1593.99        | 111575        | 1.16964e+06 | 2.30042e+06 | 1267.58                  | 3113000\n",
       "Armenia | ARM              | Asia      | Western Asia | 1999 | EFProdTotGHA | 579098    | 421752       | 0           | 3259.36        | 107416        | 1.01969e+06 | 2.13122e+06 | 1317.74                  | 3094000\n",
       "Armenia | ARM              | Asia      | Western Asia | 2000 | EFProdTotGHA | 493694    | 446028       | 22557.4     | 3307.77        | 91050.2       | 1.19193e+06 | 2.24856e+06 | 1404.32                  | 3076000\n",
       "Armenia | ARM              | Asia      | Western Asia | 2001 | EFProdTotGHA | 655356    | 448799       | 21547.1     | 2651.73        | 119014        | 1.24118e+06 | 2.48854e+06 | 1548.08                  | 3060000\n",
       "... (4458 rows omitted)"
      ]
     },
     "execution_count": 12,
     "metadata": {},
     "output_type": "execute_result"
    }
   ],
   "source": [
    "nfa_EFProdTotGHA = nfa.where(\"record\", \"EFProdTotGHA\")\n",
    "nfa_EFProdTotGHA"
   ]
  }
 ],
 "metadata": {
  "kernelspec": {
   "display_name": "Python 3",
   "language": "python",
   "name": "python3"
  },
  "language_info": {
   "codemirror_mode": {
    "name": "ipython",
    "version": 3
   },
   "file_extension": ".py",
   "mimetype": "text/x-python",
   "name": "python",
   "nbconvert_exporter": "python",
   "pygments_lexer": "ipython3",
   "version": "3.6.8"
  }
 },
 "nbformat": 4,
 "nbformat_minor": 2
}
